{
 "cells": [
  {
   "cell_type": "markdown",
   "metadata": {},
   "source": [
    "# Project Description: Review of Works Project Administration (WPA) Posters \n",
    "\n",
    "The Project Proposal was based on a cursory review of the [Library of Congress website](https://www.loc.gov/) for interesting material. The collection that we selected to examine further was a set of **Work Projects Administration (WPA) Posters**. Our objective was to download data based on these posters from two sources: the Library of Congress and Vintagraph, a commercial poster publisher website. These two datasets together allow for comparisons between two sources of WPA Posters: a commercial website and the Library of Congress.\n",
    "\n",
    "## FIRST Data Set: Library of Congress\n",
    "\n",
    "**About this Collection**\n",
    "\n",
    "This is a dataset of Library of Congress catalog data for a collection of posters produced by the Work Projects Administration (WPA) from between 1936 and 1943. The Work Projects Administration (known as the Works Progress Administration until 1939) was a New Deal-era government agency that employed 8.5 million Americans to perform public works projects. Among the WPA's many programs was the Federal Art Project, which hired artists to illustrate posters, banners, and other visual media to publicize local events, promote health and educational programs, and showcase public amenities such as National Parks. \n",
    "\n",
    "The Library of Congress's Prints and Photographs Division holds over 900 WPA posters in its collection, with each one digitized and available on the [Library of Congress website](https://www.loc.gov/collections/works-progress-administration-posters/about-this-collection/).\n",
    "\n",
    "\n",
    "**Data Collection Methodology**\n",
    "\n",
    "The data for the first data set was collected using the **[Library of Congress JSON API](https://libraryofcongress.github.io/data-exploration/index.html)**, implemented in Jupyter Notebook. The Library of Congress JSON API is in Beta and not expansive in functionality, but a review of its well-written documentation indicates that it is capable of extracting collection item information and since it doesn't require an API key or authorization, it was fairly easy to get started working with it.\n",
    "\n",
    "The collection data extracted from the API was stored in **JSON**, which was then downloaded and converted into a Panda Dataframe and CSV. From the initial JSON extraction, a set of item attributes were selected for each poster including the title, URL, LCCN (a Library of Congress unique identifier), description, and year created. This served as our primary dataset.\n",
    "\n",
    "\n",
    "## SECOND Data Set: Vintagraph\n",
    "\n",
    "For the comparison data set, we selected a poster sales site [**Vintagraph**](https://vintagraph.com), particularly its own reproductions of [WPA posters](https://vintagraph.com/collections/wpa-posters).\n",
    "\n",
    "**Data Collection Methodology**\n",
    "\n",
    "Using **spinter and beautifulsoup**, we were able to capture the Title and URL from the **HTML** for each poster available for sale on the website. This data was entered into a Pandas Dataframe and serves as the secondary dataset.\n",
    "\n",
    "Additionally, the URL of the jpg image was saved to the dataframe. We looped through the first few images and downloaded the .jpg files via the urllib library in python. \n",
    "\n",
    "## DISPLAYING the data\n",
    "\n",
    "**Data Display Methdology**\n",
    "\n",
    "We decided to make a website to host the data. This site includes pages for each data set (converted to html). The Home Page utilizes a bootstrap carousel to showcase some of the nice graphics of the posters, such as the National Parks posters. \n"
   ]
  },
  {
   "cell_type": "code",
   "execution_count": null,
   "metadata": {},
   "outputs": [],
   "source": []
  }
 ],
 "metadata": {
  "kernelspec": {
   "display_name": "Python 3",
   "language": "python",
   "name": "python3"
  },
  "language_info": {
   "codemirror_mode": {
    "name": "ipython",
    "version": 3
   },
   "file_extension": ".py",
   "mimetype": "text/x-python",
   "name": "python",
   "nbconvert_exporter": "python",
   "pygments_lexer": "ipython3",
   "version": "3.6.8"
  }
 },
 "nbformat": 4,
 "nbformat_minor": 2
}
