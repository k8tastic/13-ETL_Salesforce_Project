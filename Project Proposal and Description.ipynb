{
 "cells": [
  {
   "cell_type": "markdown",
   "metadata": {},
   "source": [
    "# Review of Works Project Administration (WPA) Posters \n",
    "\n",
    "The Project Proposal was based on a cursory review of the Library of Congress site (https://www.loc.gov/) for interesting material. The Collection that we selected to examine further was a set of **Works Project Administration (WPA) Posters**.\n",
    "\n",
    "## FIRST Data Set: Library of Congress\n",
    "\n",
    "**About this Collection**\n",
    "(from: https://www.loc.gov/collections/works-progress-administration-posters/about-this-collection/)\n",
    "\n",
    "This collection consists of 907 posters produced from 1936 to 1943 by various branches of the WPA. Of the 2,000 WPA posters known to exist, the Library of Congress's collection of more than 900 is the largest. The posters were designed to publicize exhibits, community activities, theatrical productions, and health and educational programs in seventeen states and the District of Columbia, with the strongest representation from California, Illinois, New York, Ohio, and Pennsylvania. The results of one of the first U.S. Government programs to support the arts, the posters were added to the Library's holdings in the 1940s.\n",
    "\n",
    "**Background and Scope** \n",
    "\n",
    "More than nine hundred original Work Projects Administration (WPA) posters are in the custody of the Library of Congress's Prints and Photographs Division, constituting the largest WPA holding in the United States. These original silkscreen, lithograph, and woodcut posters were produced between 1936 and 1943 in the District of Columbia and seventeen states: Alabama, California, Connecticut, Illinois, Iowa, Louisiana, Maryland, Massachusetts, Michigan, Missouri, New Jersey, New York, Ohio, Oklahoma, Pennsylvania, Utah, and Washington. The posters depict various programs and projects sponsored by the government: health and safety programs, cultural programs including art exhibitions and theatrical and musical performances, travel and tourism, educational programs, and community activities. Printed mainly on poster board, these works were also produced as one-sheet and multi-sheet designs and were sometimes signed by the artist.\n",
    "\n",
    "**Data Collection Methodology**\n",
    "\n",
    "The data for the first data set was collected using Jupyter notebooks. The collection was stored in **JSON**, and these files were downloaded and converted into a Panda Dataframe. This serves as our primary dataset. A variety of variables were collected for each poster including the title and type.\n",
    "\n",
    "\n",
    "## SECOND Data Set: Vintagraph\n",
    "\n",
    "For the comparison data set, we selected a poster sales site **Vintagraph** https://vintagraph.com\n",
    "\n",
    "**Data Collection Methodology**\n",
    "\n",
    "Using **spinter and beautifulsoup**, we were able to capture the Title and Url from the **HTML** for each poster available for sale on the website. This data was entered into a Panda Dataframe and serves as the secondary dataset.\n",
    "\n",
    "Additionally, the url of the jpg image was saved to the dataframe. We looped through the first few images and downloaded the .jpg files via the urllib library in python. \n",
    "\n",
    "## DISPLAYING the data\n",
    "\n",
    "**Data Display Methdology**\n",
    "\n",
    "We decided to make a website to host the data. This site includes pages for each data set (converted to html). The Home Page utilizes a bootstrap carousel to showcase some of the nice graphics of the posters, such as the National Parks posters. \n",
    "\n"
   ]
  },
  {
   "cell_type": "code",
   "execution_count": null,
   "metadata": {},
   "outputs": [],
   "source": []
  }
 ],
 "metadata": {
  "kernelspec": {
   "display_name": "Python 3",
   "language": "python",
   "name": "python3"
  },
  "language_info": {
   "codemirror_mode": {
    "name": "ipython",
    "version": 3
   },
   "file_extension": ".py",
   "mimetype": "text/x-python",
   "name": "python",
   "nbconvert_exporter": "python",
   "pygments_lexer": "ipython3",
   "version": "3.7.0"
  }
 },
 "nbformat": 4,
 "nbformat_minor": 2
}
