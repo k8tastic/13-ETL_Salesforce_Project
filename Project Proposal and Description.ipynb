{
 "cells": [
  {
   "cell_type": "markdown",
   "metadata": {},
   "source": [
    "# Review of Works Project Administration (WPA) Posters\n",
    "\n",
    "* The Project Proposal was based on a cursory review of the Library of Congress site (https://www.loc.gov/)\n",
    "* The Collection that we selected was a set of Works Project Administration (WPA) Posters.\n",
    "\n",
    "## FIRST Data Set\n",
    "\n",
    "**About this Collection**\n",
    "* (from: https://www.loc.gov/collections/works-progress-administration-posters/about-this-collection/) \n",
    "This collection consists of 907 posters produced from 1936 to 1943 by various branches of the WPA. Of the 2,000 WPA posters known to exist, the Library of Congress's collection of more than 900 is the largest. The posters were designed to publicize exhibits, community activities, theatrical productions, and health and educational programs in seventeen states and the District of Columbia, with the strongest representation from California, Illinois, New York, Ohio, and Pennsylvania. The results of one of the first U.S. Government programs to support the arts, the posters were added to the Library's holdings in the 1940s.\n",
    "\n",
    "**Background and Scope** \n",
    "More than nine hundred original Work Projects Administration (WPA) posters are in the custody of the Library of Congress's Prints and Photographs Division, constituting the largest WPA holding in the United States. These original silkscreen, lithograph, and woodcut posters were produced between 1936 and 1943 in the District of Columbia and seventeen states: Alabama, California, Connecticut, Illinois, Iowa, Louisiana, Maryland, Massachusetts, Michigan, Missouri, New Jersey, New York, Ohio, Oklahoma, Pennsylvania, Utah, and Washington. The posters depict various programs and projects sponsored by the government: health and safety programs, cultural programs including art exhibitions and theatrical and musical performances, travel and tourism, educational programs, and community activities. Printed mainly on poster board, these works were also produced as one-sheet and multi-sheet designs and were sometimes signed by the artist.\n",
    "\n",
    "The data for the first data set was collected using Jupyter notebooks. The collection was stored in JSON, and these files were downloaded and converted into a Panda Dataframe. This serves as our primary dataset.\n",
    "\n",
    "____ besides poster name, what other descriptive data is availble for this collection? (year, state, tags?)\n",
    "\n",
    "## SECOND Data Set\n",
    "\n",
    "For the comparison data set, we selected a poster sales site **Vintagram** https://vintagraph.com\n",
    "\n",
    "Using spinter and other web scrapping tools, we were able to capture the Title, Price, and image link for each poster available for sale on the webset. This data was entered into a Panda Dataframe and serves as the secondary dataset.\n",
    "\n",
    "## COMBINING Data Sets\n",
    "\n",
    "The common feature of both data sets is the poster name. We anticipated two data quality issues with merging these data sets due to variations in name titles, or posters that are on one but not both lists. "
   ]
  }
 ],
 "metadata": {
  "kernelspec": {
   "display_name": "Python 3",
   "language": "python",
   "name": "python3"
  },
  "language_info": {
   "codemirror_mode": {
    "name": "ipython",
    "version": 3
   },
   "file_extension": ".py",
   "mimetype": "text/x-python",
   "name": "python",
   "nbconvert_exporter": "python",
   "pygments_lexer": "ipython3",
   "version": "3.7.0"
  }
 },
 "nbformat": 4,
 "nbformat_minor": 2
}
